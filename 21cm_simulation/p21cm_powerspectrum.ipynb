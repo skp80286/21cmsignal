{
 "cells": [
  {
   "cell_type": "markdown",
   "id": "57f3343d-cb04-4eef-b169-3b7f0498b131",
   "metadata": {},
   "source": [
    "# Get 21 cm powerspectrum \n",
    "Ref: https://21cmfast.readthedocs.io/en/latest/tutorials/relative_velocities.html"
   ]
  },
  {
   "cell_type": "code",
   "execution_count": null,
   "id": "73b86a55-e14f-48fc-af63-70d014c60008",
   "metadata": {},
   "outputs": [],
   "source": [
    "## Setup py21cmfast package for use"
   ]
  },
  {
   "cell_type": "code",
   "execution_count": 6,
   "id": "2ddd86aa-2b92-4a86-a58e-0a62dfc8feff",
   "metadata": {},
   "outputs": [
    {
     "name": "stdout",
     "output_type": "stream",
     "text": [
      "Using 21cmFAST version 3.4.0\n"
     ]
    }
   ],
   "source": [
    "%matplotlib inline\n",
    "import matplotlib.pyplot as plt\n",
    "import os\n",
    "# We change the default level of the logger so that\n",
    "# we can see what's happening with caching.\n",
    "import logging, sys, os\n",
    "logger = logging.getLogger('21cmFAST')\n",
    "logger.setLevel(logging.INFO)\n",
    "\n",
    "import py21cmfast as p21c\n",
    "\n",
    "# For plotting the cubes, we use the plotting submodule:\n",
    "from py21cmfast import plotting\n",
    "\n",
    "# For interacting with the cache\n",
    "from py21cmfast import cache_tools\n",
    "\n",
    "print(f\"Using 21cmFAST version {p21c.__version__}\")\n",
    "\n",
    "if not os.path.exists('_cache'):\n",
    "    os.mkdir('_cache')\n",
    "    print(\"created _cache folder\")\n",
    "\n",
    "p21c.config['direc'] = '_cache'\n",
    "# cache_tools.clear_cache(direc=\"_cache\")\n",
    "# print(\"Cache cleared\")\n",
    "\n"
   ]
  },
  {
   "cell_type": "markdown",
   "id": "4184a9f9-8935-4d0a-b33a-3a28a11870a4",
   "metadata": {},
   "source": [
    "## Functions to compute power spectrum from brighness temperature"
   ]
  },
  {
   "cell_type": "raw",
   "id": "e27dee9e-e194-45e0-bda4-28fdd613b3d2",
   "metadata": {},
   "source": [
    "# define functions to calculate PS, following py21cmmc\n",
    "from powerbox.tools import get_power\n",
    "import numpy as np\n",
    "\n",
    "def compute_power(\n",
    "   box,\n",
    "   length,\n",
    "   n_psbins,\n",
    "   log_bins=True,\n",
    "   ignore_kperp_zero=True,\n",
    "   ignore_kpar_zero=False,\n",
    "   ignore_k_zero=False,\n",
    "):\n",
    "    # Determine the weighting function required from ignoring k's.\n",
    "    k_weights = np.ones(box.shape, dtype=int)\n",
    "    n0 = k_weights.shape[0]\n",
    "    n1 = k_weights.shape[-1]\n",
    "\n",
    "    if ignore_kperp_zero:\n",
    "        k_weights[n0 // 2, n0 // 2, :] = 0\n",
    "    if ignore_kpar_zero:\n",
    "        k_weights[:, :, n1 // 2] = 0\n",
    "    if ignore_k_zero:\n",
    "        k_weights[n0 // 2, n0 // 2, n1 // 2] = 0\n",
    "\n",
    "    res = get_power(\n",
    "        box,\n",
    "        boxlength=length,\n",
    "        bins=n_psbins,\n",
    "        bin_ave=False,\n",
    "        get_variance=False,\n",
    "        log_bins=log_bins,\n",
    "        k_weights=k_weights,\n",
    "    )\n",
    "\n",
    "    res = list(res)\n",
    "    k = res[1]\n",
    "    if log_bins:\n",
    "        k = np.exp((np.log(k[1:]) + np.log(k[:-1])) / 2)\n",
    "    else:\n",
    "        k = (k[1:] + k[:-1]) / 2\n",
    "\n",
    "    res[1] = k\n",
    "    return res\n",
    "\n",
    "def powerspectra(brightness_temp, n_psbins=50, nchunks=10, min_k=0.1, max_k=1.0, logk=True):\n",
    "    data = []\n",
    "    chunk_indices = list(range(0,brightness_temp.n_slices,round(brightness_temp.n_slices / nchunks),))\n",
    "\n",
    "    if len(chunk_indices) > nchunks:\n",
    "        chunk_indices = chunk_indices[:-1]\n",
    "    chunk_indices.append(brightness_temp.n_slices)\n",
    "\n",
    "    for i in range(nchunks):\n",
    "        start = chunk_indices[i]\n",
    "        end = chunk_indices[i + 1]\n",
    "        chunklen = (end - start) * brightness_temp.cell_size\n",
    "\n",
    "        power, k = compute_power(\n",
    "            brightness_temp.brightness_temp[:, :, start:end],\n",
    "            (BOX_LEN, BOX_LEN, chunklen),\n",
    "            n_psbins,\n",
    "            log_bins=logk,\n",
    "        )\n",
    "        \n",
    "        print (k)\n",
    "        filter = [(x >= min_k and x <= max_k) for x in k]\n",
    "        print(filter)\n",
    "        k = k[filter]\n",
    "        print (k)\n",
    "        power = power[filter]\n",
    "        data.append({\"k\": k, \"delta\": power * k ** 3 / (2 * np.pi ** 2)})\n",
    "    return data\n",
    "    \n",
    "def powerspectra1(brightness_temp, n_psbins=50, min_k=0.1, max_k=1.0, logk=True):\n",
    "    data = []\n",
    "    power, k = compute_power(\n",
    "            brightness_temp,\n",
    "            (BOX_LEN, BOX_LEN, 1),\n",
    "            n_psbins,\n",
    "            log_bins=logk,\n",
    "        )\n",
    "    filter = [(x >= min_k and x <= max_k) for x in k]\n",
    "    k = k[filter]\n",
    "    power = power[filter]\n",
    "    data.append({\"k\": k, \"delta\": power * k ** 3 / (2 * np.pi ** 2)})\n",
    "    return data\n",
    "\n",
    "def get_spectra(z):\n",
    "    lightcone = p21c.run_lightcone(redshift = (z - 0.01), max_redshift= (z + 0.01))\n",
    "    return powerspectra(lightcone, n_psbins = 20, nchunks = 1, min_k =  0.5, max_k = 10, logk = True) "
   ]
  },
  {
   "cell_type": "markdown",
   "id": "8b69b30e-0ced-4d79-92dc-3432ef92e1b1",
   "metadata": {},
   "source": [
    "## Run simulation and generate 21cm spectrum"
   ]
  },
  {
   "cell_type": "code",
   "execution_count": 10,
   "id": "3fc3d4fe-a099-44ce-87ad-cf7cc02602b9",
   "metadata": {},
   "outputs": [
    {
     "name": "stderr",
     "output_type": "stream",
     "text": [
      "/opt/anaconda3/lib/python3.11/site-packages/powerbox/tools.py:261: FutureWarning: In the future, bins will be generated by default up to the smallest length over any dimension, instead of the largest magnitude for the box.Set bins_upto_boxlen to silence this warning.\n",
      "  bins = _getbins(bins, coord_mags, log_bins, bins_upto_boxlen=bins_upto_boxlen)\n"
     ]
    },
    {
     "name": "stdout",
     "output_type": "stream",
     "text": [
      "[array([3.50389147e+04, 1.85891216e+04, 9.34564014e+03, 4.25675311e+03,\n",
      "       1.62527221e+03, 4.44727871e+02, 1.07648152e+02, 2.39123092e+01,\n",
      "       5.06248781e+00, 2.29944595e+00]), array([0.08130325, 0.13613317, 0.22793973, 0.38165951, 0.63904604,\n",
      "       1.07001093, 1.79161329, 2.99985552, 5.02292162, 8.41031892])]\n"
     ]
    }
   ],
   "source": [
    "import numpy as np\n",
    "import collections.abc\n",
    "#py21cmmc needs the four following aliases to be done manually.\n",
    "collections.Iterable = collections.abc.Iterable\n",
    "collections.Mapping = collections.abc.Mapping\n",
    "collections.MutableSet = collections.abc.MutableSet\n",
    "collections.MutableMapping = collections.abc.MutableMapping\n",
    "#py21cmmc needs the below\n",
    "np.int = np.int32\n",
    "#Now import py21cmmc\n",
    "from py21cmmc import analyse\n",
    "from py21cmmc import mcmc\n",
    "import py21cmmc as p21mc\n",
    "\n",
    "user_params = {\"FAST_FCOLL_TABLES\": True, \"USE_INTERPOLATION_TABLES\": True, \"N_THREADS\": 6, \"USE_FFTW_WISDOM\": True}\n",
    "flag_options = { \"USE_MINI_HALOS\": True}\n",
    "\n",
    "coeval = p21c.run_coeval(redshift=9.1, user_params = user_params)\n",
    "ps = p21mc.Likelihood1DPowerCoeval.compute_power(coeval.brightness_temp, L=100, n_psbins = 10) \n",
    "print(ps)"
   ]
  },
  {
   "cell_type": "code",
   "execution_count": null,
   "id": "726535b0-3254-4c90-bdfd-bc0aeb7ae6e5",
   "metadata": {},
   "outputs": [],
   "source": [
    "import p21cm_powerspectrum as sim\n",
    "ps = sim.get_spectra(9.0) \n",
    "print(ps)"
   ]
  },
  {
   "cell_type": "code",
   "execution_count": null,
   "id": "9b96981a-ca44-46f7-96f5-3a6b35f5f0f3",
   "metadata": {},
   "outputs": [],
   "source": [
    "import pprint \n",
    "pp = pprint.PrettyPrinter(indent=4)\n",
    "pp.pprint(ps[0])"
   ]
  },
  {
   "cell_type": "code",
   "execution_count": null,
   "id": "7951acf5-dd59-4431-9053-dbc3c543ce58",
   "metadata": {},
   "outputs": [],
   "source": [
    "from matplotlib import pyplot as plt\n",
    "fig, ax = plt.subplots(figsize=(6, 3))\n",
    "plt.plot(ps[0]['k'], ps[0]['delta'], color='#e41a1c')\n",
    "ax.set_xlabel('k($Mpc^{-1}$)')\n",
    "ax.set_ylabel('$\\Delta^2(mK^2)$')\n",
    "ax.set_xscale('log')\n",
    "\n",
    "#fig, axs = plt.subplots(2, 5,\n",
    "#                         sharex=True, figsize=(14,8))\n",
    "\n",
    "#for ii in range(10):\n",
    "#    axs[ii%2][int(ii/2)].plot(ps[ii]['k'], ps[ii]['delta'], color='#e41a1c', linestyle='-')\n",
    "\n",
    "#plt.tight_layout()\n",
    "plt.show()\n"
   ]
  },
  {
   "cell_type": "markdown",
   "id": "95d9020b-9231-4961-b6ef-f611cc78eff6",
   "metadata": {},
   "source": [
    "# Generate dataset of powerspectrum\n",
    "Vary the Astr parameters:       HII\\_EFF\\_FACTOR (30.0) & ION\\_Tvir\\_MIN (49999.9995007974)"
   ]
  },
  {
   "cell_type": "code",
   "execution_count": 18,
   "id": "971beea5-f2e5-4cee-a896-38fc439a0809",
   "metadata": {},
   "outputs": [
    {
     "name": "stderr",
     "output_type": "stream",
     "text": [
      "2024-08-21 22:38:04,284 | INFO | Removed 14 files from cache.\n"
     ]
    },
    {
     "name": "stdout",
     "output_type": "stream",
     "text": [
      "Cache cleared\n",
      "output/ps-20240821223804\n",
      "[array([1.42056770e+04, 1.00972326e+04, 7.00897690e+03, 3.69422718e+03,\n",
      "       1.57071752e+03, 4.50481875e+02, 1.13763568e+02, 2.57622723e+01,\n",
      "       5.38760271e+00, 2.39927614e+00]), array([0.08130325, 0.13613317, 0.22793973, 0.38165951, 0.63904604,\n",
      "       1.07001093, 1.79161329, 2.99985552, 5.02292162, 8.41031892])]\n",
      "--- 97.69210410118103 seconds ---\n"
     ]
    }
   ],
   "source": [
    "import numpy as np\n",
    "import collections.abc\n",
    "#py21cmmc needs the four following aliases to be done manually.\n",
    "collections.Iterable = collections.abc.Iterable\n",
    "collections.Mapping = collections.abc.Mapping\n",
    "collections.MutableSet = collections.abc.MutableSet\n",
    "collections.MutableMapping = collections.abc.MutableMapping\n",
    "#py21cmmc needs the below\n",
    "np.int = np.int32\n",
    "#Now import py21cmmc\n",
    "from py21cmmc import analyse\n",
    "from py21cmmc import mcmc\n",
    "import py21cmmc as p21mc\n",
    "import math\n",
    "import pickle\n",
    "from datetime import datetime\n",
    "import time\n",
    "\n",
    "cache_tools.clear_cache(direc=\"_cache\")\n",
    "print(\"Cache cleared\")\n",
    "\n",
    "user_params = {\"FAST_FCOLL_TABLES\": True, \"USE_INTERPOLATION_TABLES\": True, \"N_THREADS\": 6, \"USE_FFTW_WISDOM\": True}\n",
    "flag_options = { \"USE_MINI_HALOS\": True}\n",
    "\n",
    "filename = datetime.now().strftime(\"output/ps-%Y%m%d%H%M%S\")\n",
    "print(filename)\n",
    "\n",
    "zeta_base = 30.0\n",
    "zeta_low = zeta_base*0.8  # -20%\n",
    "zeta_high = zeta_base*1.2 # +20%\n",
    "\n",
    "m_min_base = math.log10(49999.9995007974)\n",
    "m_min_low = m_min_base+math.log10(0.8) # -20%\n",
    "m_min_high = m_min_base+math.log10(1.2) # -20%\n",
    "\n",
    "z = 9.1\n",
    "nsets = 1000 # number of powerspectra datasets to generate\n",
    "\n",
    "user_params = {\"FAST_FCOLL_TABLES\": True, \"USE_INTERPOLATION_TABLES\": True, \"N_THREADS\": 6, \"USE_FFTW_WISDOM\": True}\n",
    "flag_options = {}# \"USE_MINI_HALOS\": True}\n",
    "\n",
    "k_len = -1\n",
    "\n",
    "start_time = time.time()\n",
    "for i in range(nsets):\n",
    "    zeta = np.random.uniform(zeta_low, zeta_high)\n",
    "    m_min = np.random.uniform(m_min_low, m_min_high)\n",
    "    astro_params = {   \n",
    "        \"HII_EFF_FACTOR\": zeta,\n",
    "        \"ION_Tvir_MIN\": m_min\n",
    "    }\n",
    "    coeval = p21c.run_coeval(redshift=9.1, user_params = user_params, astro_params=astro_params, flag_options=flag_options)\n",
    "    ps = p21mc.Likelihood1DPowerCoeval.compute_power(coeval.brightness_temp, L=100, n_psbins = 10) \n",
    "    \n",
    "\n",
    "    # Data validity - skip invalid records\n",
    "    if (k_len < 0):\n",
    "        print(ps)\n",
    "        k_len = len(ps[0])\n",
    "    elif k_len != len(ps[0]):\n",
    "        print (\"Invalid powerspectrum record: skipping...\")\n",
    "        continue\n",
    "    ####\n",
    "    \n",
    "    with open(filename, 'ab') as f:  # open a text file\n",
    "        pickle.dump({\"zeta\": zeta, \"m_min\": m_min, \"ps\": ps[0]}, f)\n",
    "print(\"--- %s seconds ---\" % (time.time() - start_time))\n"
   ]
  },
  {
   "cell_type": "markdown",
   "id": "a969b035-1137-4666-b917-3e3abf38725a",
   "metadata": {},
   "source": [
    "# Test deserialization"
   ]
  },
  {
   "cell_type": "code",
   "execution_count": 20,
   "id": "993e2581-7d8b-4c34-9fd3-e5dc71ad792c",
   "metadata": {},
   "outputs": [
    {
     "name": "stdout",
     "output_type": "stream",
     "text": [
      "{   'm_min': 4.766969457811717,\n",
      "    'ps': array([1.42056770e+04, 1.00972326e+04, 7.00897690e+03, 3.69422718e+03,\n",
      "       1.57071752e+03, 4.50481875e+02, 1.13763568e+02, 2.57622723e+01,\n",
      "       5.38760271e+00, 2.39927614e+00]),\n",
      "    'zeta': 31.34476484466076}\n",
      "{   'm_min': 4.654987379621536,\n",
      "    'ps': array([2.24854248e+04, 1.42941062e+04, 9.45037655e+03, 4.63235420e+03,\n",
      "       1.75182198e+03, 4.49375498e+02, 1.05930943e+02, 2.31065161e+01,\n",
      "       4.93375259e+00, 2.27561763e+00]),\n",
      "    'zeta': 29.716626591936382}\n",
      "{   'm_min': 4.740591937646095,\n",
      "    'ps': array([1.01151905e+04, 7.54441911e+03, 5.34123062e+03, 2.95433523e+03,\n",
      "       1.35344415e+03, 4.21886644e+02, 1.09892684e+02, 2.52266943e+01,\n",
      "       5.29239156e+00, 2.34435546e+00]),\n",
      "    'zeta': 27.21881946932314}\n",
      "--- 3 lines ---\n"
     ]
    }
   ],
   "source": [
    "import pprint \n",
    "pp = pprint.PrettyPrinter(indent=4)\n",
    "lines = 0\n",
    "with open('output/ps-20240821223804', 'rb') as f:  # open a text file\n",
    "    while 1:\n",
    "        try:\n",
    "            e = pickle.load(f)\n",
    "            if(lines < 3):\n",
    "                pp.pprint(e)\n",
    "            lines = lines + 1\n",
    "        except EOFError:\n",
    "            break\n",
    "print(\"--- %d lines ---\" % lines)"
   ]
  },
  {
   "cell_type": "raw",
   "id": "ff1784a2-7cf1-4fde-b642-52f5905514e5",
   "metadata": {},
   "source": [
    "import numpy as np\n",
    "import p21cm_powerspectrum as sim\n",
    "import pickle as pkl\n",
    "from datetime import datetime\n",
    "import time\n",
    "filename = datetime.now().strftime(\"output/ps-%Y%m%d%H%M%S\")\n",
    "print(filename)\n",
    "\n",
    "zeta_base = 30.0\n",
    "zeta_low = zeta_base*0.8  # -20%\n",
    "zeta_high = zeta_base*1.2 # +20%\n",
    "\n",
    "m_min_base = 49999.9995007974\n",
    "m_min_low = m_min_base*0.8 # -20%\n",
    "m_min_high = m_min_base*1.2 # -20%\n",
    "\n",
    "z = 9.1\n",
    "nsets = 3 # number of powerspectra datasets to generate\n",
    "\n",
    "user_params = {\"FAST_FCOLL_TABLES\": True, \"USE_INTERPOLATION_TABLES\": True, \"N_THREADS\": 6, \"USE_FFTW_WISDOM\": True}\n",
    "flag_options = { \"USE_MINI_HALOS\": True}\n",
    "\n",
    "k_len = -1\n",
    "\n",
    "start_time = time.time()\n",
    "for i in range(nsets):\n",
    "    zeta = np.random.uniform(zeta_low, zeta_high)\n",
    "    m_min = np.random.uniform(m_min_low, m_min_high)\n",
    "    astro_params = {   \n",
    "        \"HII_EFF_FACTOR\": zeta,\n",
    "        \"ION_Tvir_MIN\": m_min\n",
    "    }\n",
    "    lightcone = p21c.run_lightcone(redshift = (z - 0.01), max_redshift= (z + 0.01), user_params=user_params, \n",
    "                                   astro_params=astro_params, flag_options=flag_options)\n",
    "    ps = sim.powerspectra(lightcone, n_psbins = [0.09120896, 0.11693448, 0.14991589, 0.19219972, 0.24640972,\n",
    "       0.31590967, 0.40501211, 0.51924592, 0.66569942, 0.85346018,\n",
    "       1.09417892, 1.40279248, 1.79845061, 2.30570425, 2.95602897,\n",
    "       3.789778  , 4.85868625, 6.22908045, 7.98599484], nchunks = 1, min_k =  0.08, max_k = 100, logk = True) \n",
    "\n",
    "    # Data validity - skip invalid records\n",
    "    if (k_len < 0):\n",
    "        k_len = len(ps[0]['k'])\n",
    "    elif k_len != len(ps[0]['k']):\n",
    "        print (\"Invalid powerspectrum record: skipping...\")\n",
    "        continue\n",
    "    ####\n",
    "    \n",
    "    with open(filename, 'ab') as f:  # open a text file\n",
    "        pkl.dump({\"zeta\": zeta, \"m_min\": m_min, \"ps\": ps}, f)\n",
    "print(\"--- %s seconds ---\" % (time.time() - start_time))\n"
   ]
  },
  {
   "cell_type": "markdown",
   "id": "d831af22-b09d-4f78-975d-c1c58208649b",
   "metadata": {},
   "source": [
    "# Use py21cmmc to generate powerspectrum dataset"
   ]
  },
  {
   "cell_type": "code",
   "execution_count": null,
   "id": "54d69540-4223-46b4-844e-cceb13193ddf",
   "metadata": {},
   "outputs": [
    {
     "name": "stderr",
     "output_type": "stream",
     "text": [
      "/opt/anaconda3/lib/python3.11/site-packages/py21cmfast/inputs.py:515: UserWarning: The USE_INTERPOLATION_TABLES setting has changed in v3.1.2 to be default True. You can likely ignore this warning, but if you relied onhaving USE_INTERPOLATION_TABLES=False by *default*, please set it explicitly. To silence this warning, set it explicitly to True. Thiswarning will be removed in v4.\n",
      "  warnings.warn(\n",
      "When attempting to write IonizedBox to file, write failed with the following error. Continuing without caching.\n",
      "[Errno 28] Can't write data (file write failed: time = Wed Aug 21 19:25:17 2024\n",
      ", filename = '/Users/sanayaestbelle/21cmFAST-cache/IonizedBox_9585f000d4694187efd71f575eac7e1f_r505344556363.h5', file descriptor = 75, errno = 28, error message = 'No space left on device', buf = 0x7f856a370000, total write size = 4000000, bytes this sub-write = 4000000, bytes actually written = 18446744073709551615, offset = 0)\n",
      "When attempting to write BrightnessTemp to file, write failed with the following error. Continuing without caching.\n",
      "[Errno 28] Can't write data (file write failed: time = Wed Aug 21 19:25:17 2024\n",
      ", filename = '/Users/sanayaestbelle/21cmFAST-cache/BrightnessTemp_6791accd90b28645b78813ce80f0d7da_r505344556363.h5', file descriptor = 75, errno = 28, error message = 'No space left on device', buf = 0x7f8568c60000, total write size = 4000000, bytes this sub-write = 4000000, bytes actually written = 18446744073709551615, offset = 0)\n",
      "2024-08-21 19:25:19,375 | WARNING | mcmc.py::run_mcmc() | Attempt to write out YAML file containing LikelihoodComputationChain failed. Boldly continuing...\n"
     ]
    },
    {
     "name": "stdout",
     "output_type": "stream",
     "text": [
      "[Errno 28] No space left on device\n"
     ]
    },
    {
     "name": "stderr",
     "output_type": "stream",
     "text": [
      "When attempting to write IonizedBox to file, write failed with the following error. Continuing without caching.\n",
      "[Errno 28] Can't write data (file write failed: time = Wed Aug 21 19:25:21 2024\n",
      ", filename = '/Users/sanayaestbelle/21cmFAST-cache/IonizedBox_cbe4c928b5304c76bb80d4537af4a6fd_r505344556363.h5', file descriptor = 75, errno = 28, error message = 'No space left on device', buf = 0x7f8539038000, total write size = 4000000, bytes this sub-write = 4000000, bytes actually written = 18446744073709551615, offset = 0)\n",
      "When attempting to write BrightnessTemp to file, write failed with the following error. Continuing without caching.\n",
      "[Errno 28] Can't write data (file write failed: time = Wed Aug 21 19:25:21 2024\n",
      ", filename = '/Users/sanayaestbelle/21cmFAST-cache/BrightnessTemp_2406e40156fea9b45127339a4e8d8dd0_r505344556363.h5', file descriptor = 75, errno = 28, error message = 'No space left on device', buf = 0x7f85384b0000, total write size = 4000000, bytes this sub-write = 4000000, bytes actually written = 18446744073709551615, offset = 0)\n",
      "2024-08-21 19:25:22,165 | WARNING | mcmc.py::run_mcmc() | Attempt to write out YAML file containing LikelihoodComputationChain failed. Boldly continuing...\n"
     ]
    },
    {
     "name": "stdout",
     "output_type": "stream",
     "text": [
      "[Errno 28] No space left on device\n"
     ]
    },
    {
     "name": "stderr",
     "output_type": "stream",
     "text": [
      "When attempting to write IonizedBox to file, write failed with the following error. Continuing without caching.\n",
      "[Errno 28] Unable to create file (file write failed: time = Wed Aug 21 19:25:23 2024\n",
      ", filename = '/Users/sanayaestbelle/21cmFAST-cache/IonizedBox_a4c142ce8fbdfd869536c57244da4f68_r505344556363.h5', file descriptor = 75, errno = 28, error message = 'No space left on device', buf = 0x600000001980, total write size = 96, bytes this sub-write = 96, bytes actually written = 18446744073709551615, offset = 0)\n",
      "When attempting to write BrightnessTemp to file, write failed with the following error. Continuing without caching.\n",
      "[Errno 28] Unable to create file (file write failed: time = Wed Aug 21 19:25:23 2024\n",
      ", filename = '/Users/sanayaestbelle/21cmFAST-cache/BrightnessTemp_ca3cf4210b630c43dadd9836924fbe10_r505344556363.h5', file descriptor = 75, errno = 28, error message = 'No space left on device', buf = 0x600000030300, total write size = 96, bytes this sub-write = 96, bytes actually written = 18446744073709551615, offset = 0)\n",
      "2024-08-21 19:25:25,481 | WARNING | mcmc.py::run_mcmc() | Attempt to write out YAML file containing LikelihoodComputationChain failed. Boldly continuing...\n"
     ]
    },
    {
     "name": "stdout",
     "output_type": "stream",
     "text": [
      "[Errno 28] No space left on device\n"
     ]
    },
    {
     "name": "stderr",
     "output_type": "stream",
     "text": [
      "When attempting to write IonizedBox to file, write failed with the following error. Continuing without caching.\n",
      "[Errno 28] Unable to create file (file write failed: time = Wed Aug 21 19:25:26 2024\n",
      ", filename = '/Users/sanayaestbelle/21cmFAST-cache/IonizedBox_1045a55344542b083702f78aefa25986_r505344556363.h5', file descriptor = 75, errno = 28, error message = 'No space left on device', buf = 0x600000025f00, total write size = 96, bytes this sub-write = 96, bytes actually written = 18446744073709551615, offset = 0)\n",
      "When attempting to write BrightnessTemp to file, write failed with the following error. Continuing without caching.\n",
      "[Errno 28] Unable to create file (file write failed: time = Wed Aug 21 19:25:26 2024\n",
      ", filename = '/Users/sanayaestbelle/21cmFAST-cache/BrightnessTemp_a11b29126c10a5c26760d8c0fb20abd8_r505344556363.h5', file descriptor = 75, errno = 28, error message = 'No space left on device', buf = 0x600000025f00, total write size = 96, bytes this sub-write = 96, bytes actually written = 18446744073709551615, offset = 0)\n",
      "2024-08-21 19:25:29,966 | WARNING | mcmc.py::run_mcmc() | Attempt to write out YAML file containing LikelihoodComputationChain failed. Boldly continuing...\n"
     ]
    },
    {
     "name": "stdout",
     "output_type": "stream",
     "text": [
      "[Errno 28] No space left on device\n"
     ]
    },
    {
     "name": "stderr",
     "output_type": "stream",
     "text": [
      "When attempting to write IonizedBox to file, write failed with the following error. Continuing without caching.\n",
      "[Errno 28] Can't write data (file write failed: time = Wed Aug 21 19:25:31 2024\n",
      ", filename = '/Users/sanayaestbelle/21cmFAST-cache/IonizedBox_06887fa35130d059c1d5af72006b700f_r505344556363.h5', file descriptor = 75, errno = 28, error message = 'No space left on device', buf = 0x7f8569870000, total write size = 4000000, bytes this sub-write = 4000000, bytes actually written = 18446744073709551615, offset = 0)\n",
      "When attempting to write BrightnessTemp to file, write failed with the following error. Continuing without caching.\n",
      "[Errno 28] Can't write data (file write failed: time = Wed Aug 21 19:25:31 2024\n",
      ", filename = '/Users/sanayaestbelle/21cmFAST-cache/BrightnessTemp_0c22c3d3b514ebc2c8940be526695add_r505344556363.h5', file descriptor = 75, errno = 28, error message = 'No space left on device', buf = 0x7f84e3728000, total write size = 4000000, bytes this sub-write = 4000000, bytes actually written = 18446744073709551615, offset = 0)\n",
      "When attempting to write IonizedBox to file, write failed with the following error. Continuing without caching.\n",
      "[Errno 28] Can't write data (file write failed: time = Wed Aug 21 19:27:08 2024\n",
      ", filename = '/Users/sanayaestbelle/21cmFAST-cache/IonizedBox_b5b7a33166272d108e697dbe4648966a_r505344556363.h5', file descriptor = 75, errno = 28, error message = 'No space left on device', buf = 0x7f856a020000, total write size = 4000000, bytes this sub-write = 4000000, bytes actually written = 18446744073709551615, offset = 0)\n",
      "When attempting to write BrightnessTemp to file, write failed with the following error. Continuing without caching.\n",
      "[Errno 28] Can't write data (file write failed: time = Wed Aug 21 19:27:08 2024\n",
      ", filename = '/Users/sanayaestbelle/21cmFAST-cache/BrightnessTemp_3f39d3d8df92fccae011edcd24f6e8c7_r505344556363.h5', file descriptor = 75, errno = 28, error message = 'No space left on device', buf = 0x7f85397e8000, total write size = 4000000, bytes this sub-write = 4000000, bytes actually written = 18446744073709551615, offset = 0)\n",
      "2024-08-21 19:27:09,065 | WARNING | mcmc.py::run_mcmc() | Attempt to write out YAML file containing LikelihoodComputationChain failed. Boldly continuing...\n"
     ]
    },
    {
     "name": "stdout",
     "output_type": "stream",
     "text": [
      "[Errno 28] No space left on device\n"
     ]
    },
    {
     "name": "stderr",
     "output_type": "stream",
     "text": [
      "When attempting to write IonizedBox to file, write failed with the following error. Continuing without caching.\n",
      "[Errno 28] Unable to create file (file write failed: time = Wed Aug 21 19:27:10 2024\n",
      ", filename = '/Users/sanayaestbelle/21cmFAST-cache/IonizedBox_44e17b62022682114894604aab9cb9a2_r505344556363.h5', file descriptor = 75, errno = 28, error message = 'No space left on device', buf = 0x600000025700, total write size = 96, bytes this sub-write = 96, bytes actually written = 18446744073709551615, offset = 0)\n",
      "When attempting to write BrightnessTemp to file, write failed with the following error. Continuing without caching.\n",
      "[Errno 28] Unable to create file (file write failed: time = Wed Aug 21 19:27:10 2024\n",
      ", filename = '/Users/sanayaestbelle/21cmFAST-cache/BrightnessTemp_a0e1e56835fdddbbddc055da08705e8e_r505344556363.h5', file descriptor = 75, errno = 28, error message = 'No space left on device', buf = 0x600000028f80, total write size = 96, bytes this sub-write = 96, bytes actually written = 18446744073709551615, offset = 0)\n",
      "2024-08-21 19:27:12,722 | WARNING | mcmc.py::run_mcmc() | Attempt to write out YAML file containing LikelihoodComputationChain failed. Boldly continuing...\n"
     ]
    },
    {
     "name": "stdout",
     "output_type": "stream",
     "text": [
      "[Errno 28] No space left on device\n"
     ]
    },
    {
     "name": "stderr",
     "output_type": "stream",
     "text": [
      "When attempting to write IonizedBox to file, write failed with the following error. Continuing without caching.\n",
      "[Errno 28] Unable to create file (file write failed: time = Wed Aug 21 19:27:14 2024\n",
      ", filename = '/Users/sanayaestbelle/21cmFAST-cache/IonizedBox_e653855433e67f6d63e72b165c82d3ce_r505344556363.h5', file descriptor = 75, errno = 28, error message = 'No space left on device', buf = 0x600000030100, total write size = 96, bytes this sub-write = 96, bytes actually written = 18446744073709551615, offset = 0)\n",
      "When attempting to write BrightnessTemp to file, write failed with the following error. Continuing without caching.\n",
      "[Errno 28] Unable to create file (file write failed: time = Wed Aug 21 19:27:14 2024\n",
      ", filename = '/Users/sanayaestbelle/21cmFAST-cache/BrightnessTemp_55c583a74dbb57ecb0cabbda3bbf3a9f_r505344556363.h5', file descriptor = 75, errno = 28, error message = 'No space left on device', buf = 0x600000025600, total write size = 96, bytes this sub-write = 96, bytes actually written = 18446744073709551615, offset = 0)\n",
      "2024-08-21 19:27:16,530 | WARNING | mcmc.py::run_mcmc() | Attempt to write out YAML file containing LikelihoodComputationChain failed. Boldly continuing...\n"
     ]
    },
    {
     "name": "stdout",
     "output_type": "stream",
     "text": [
      "[Errno 28] No space left on device\n"
     ]
    },
    {
     "name": "stderr",
     "output_type": "stream",
     "text": [
      "When attempting to write IonizedBox to file, write failed with the following error. Continuing without caching.\n",
      "[Errno 28] Can't write data (file write failed: time = Wed Aug 21 19:27:18 2024\n",
      ", filename = '/Users/sanayaestbelle/21cmFAST-cache/IonizedBox_976c6e9d9fb6939e37e0640efb46a59d_r505344556363.h5', file descriptor = 75, errno = 28, error message = 'No space left on device', buf = 0x7f8569bc0000, total write size = 4000000, bytes this sub-write = 4000000, bytes actually written = 18446744073709551615, offset = 0)\n",
      "When attempting to write BrightnessTemp to file, write failed with the following error. Continuing without caching.\n",
      "[Errno 28] Can't write data (file write failed: time = Wed Aug 21 19:27:18 2024\n",
      ", filename = '/Users/sanayaestbelle/21cmFAST-cache/BrightnessTemp_fe99f2df37ad5a42b553bd4aef247924_r505344556363.h5', file descriptor = 75, errno = 28, error message = 'No space left on device', buf = 0x7f8568888000, total write size = 4000000, bytes this sub-write = 4000000, bytes actually written = 18446744073709551615, offset = 0)\n",
      "When attempting to write IonizedBox to file, write failed with the following error. Continuing without caching.\n",
      "[Errno 28] Can't write data (file write failed: time = Wed Aug 21 19:28:46 2024\n",
      ", filename = '/Users/sanayaestbelle/21cmFAST-cache/IonizedBox_eaa5ecc166f28e88d932dfc84402d7be_r505344556363.h5', file descriptor = 75, errno = 28, error message = 'No space left on device', buf = 0x7f8568bd8000, total write size = 4000000, bytes this sub-write = 4000000, bytes actually written = 18446744073709551615, offset = 0)\n",
      "When attempting to write BrightnessTemp to file, write failed with the following error. Continuing without caching.\n",
      "[Errno 28] Can't write data (file write failed: time = Wed Aug 21 19:28:46 2024\n",
      ", filename = '/Users/sanayaestbelle/21cmFAST-cache/BrightnessTemp_ee4366960f3ac3d5f303a8913a34095d_r505344556363.h5', file descriptor = 75, errno = 28, error message = 'No space left on device', buf = 0x7f8548cd8000, total write size = 4000000, bytes this sub-write = 4000000, bytes actually written = 18446744073709551615, offset = 0)\n",
      "2024-08-21 19:28:47,581 | WARNING | mcmc.py::run_mcmc() | Attempt to write out YAML file containing LikelihoodComputationChain failed. Boldly continuing...\n"
     ]
    },
    {
     "name": "stdout",
     "output_type": "stream",
     "text": [
      "[Errno 28] No space left on device\n"
     ]
    },
    {
     "name": "stderr",
     "output_type": "stream",
     "text": [
      "When attempting to write IonizedBox to file, write failed with the following error. Continuing without caching.\n",
      "[Errno 28] Can't write data (file write failed: time = Wed Aug 21 19:28:49 2024\n",
      ", filename = '/Users/sanayaestbelle/21cmFAST-cache/IonizedBox_31268aadccdede7e2dbe077042b2ec5b_r505344556363.h5', file descriptor = 75, errno = 28, error message = 'No space left on device', buf = 0x7f8538c60000, total write size = 4000000, bytes this sub-write = 4000000, bytes actually written = 18446744073709551615, offset = 0)\n",
      "When attempting to write BrightnessTemp to file, write failed with the following error. Continuing without caching.\n",
      "[Errno 28] Can't write data (file write failed: time = Wed Aug 21 19:28:49 2024\n",
      ", filename = '/Users/sanayaestbelle/21cmFAST-cache/BrightnessTemp_24fb3641a8dfe9bbc0d755a5ff861286_r505344556363.h5', file descriptor = 75, errno = 28, error message = 'No space left on device', buf = 0x7f85684b0000, total write size = 4000000, bytes this sub-write = 4000000, bytes actually written = 18446744073709551615, offset = 0)\n",
      "When attempting to write IonizedBox to file, write failed with the following error. Continuing without caching.\n",
      "[Errno 28] Unable to create file (file write failed: time = Wed Aug 21 19:28:51 2024\n",
      ", filename = '/Users/sanayaestbelle/21cmFAST-cache/IonizedBox_367ef34a43bd13e9c9c5c8c36653e061_r505344556363.h5', file descriptor = 75, errno = 28, error message = 'No space left on device', buf = 0x600000001480, total write size = 96, bytes this sub-write = 96, bytes actually written = 18446744073709551615, offset = 0)\n",
      "When attempting to write BrightnessTemp to file, write failed with the following error. Continuing without caching.\n",
      "[Errno 28] Unable to create file (file write failed: time = Wed Aug 21 19:28:51 2024\n",
      ", filename = '/Users/sanayaestbelle/21cmFAST-cache/BrightnessTemp_d56c119ed3df3a30722eea23db9fa7ee_r505344556363.h5', file descriptor = 75, errno = 28, error message = 'No space left on device', buf = 0x600000001480, total write size = 96, bytes this sub-write = 96, bytes actually written = 18446744073709551615, offset = 0)\n"
     ]
    }
   ],
   "source": [
    "import numpy as np\n",
    "import collections.abc\n",
    "#py21cmmc needs the four following aliases to be done manually.\n",
    "collections.Iterable = collections.abc.Iterable\n",
    "collections.Mapping = collections.abc.Mapping\n",
    "collections.MutableSet = collections.abc.MutableSet\n",
    "collections.MutableMapping = collections.abc.MutableMapping\n",
    "#Now import py21cmmc\n",
    "from py21cmmc import analyse\n",
    "from py21cmmc import mcmc\n",
    "import py21cmmc as p21mc\n",
    "import csv\n",
    "import random\n",
    "#import argparse\n",
    "from py21cmfast import cache_tools\n",
    "\n",
    "#parser = argparse.ArgumentParser()\n",
    "#parser.add_argument(\"no_of_sim\",help=\"Num of generations\")\n",
    "#parser.add_argument(\"f_no\",help=\"File number\")\n",
    "#args=parser.parse_args()\n",
    "\n",
    "n = 3 #int(args.no_of_sim)\n",
    "x=3 #int(args.f_no)\n",
    "\n",
    "#HII_EFF_FACTOR Range:[5,200]\n",
    "#ION_Tvir_MIN Range:[4,6]\n",
    "#R_BUBBLE_MAX Range:[5,20]\n",
    "\n",
    "i=0\n",
    "while(i<n):\n",
    "    try:\n",
    "        h2_eff= random.uniform(5,200) \n",
    "        vir_min= random.uniform(4,6)  \n",
    "        r_mfp= random.uniform(5,20) \n",
    "\n",
    "        #Creating Cores\n",
    "        core = p21mc.CoreCoevalModule( \n",
    "            redshift = 9.1,         \n",
    "            user_params = dict(       \n",
    "                HII_DIM = 100,        \n",
    "                BOX_LEN = 100       \n",
    "            ),\n",
    "            flag_options={'USE_MASS_DEPENDENT_ZETA': False},\n",
    "            astro_params={'HII_EFF_FACTOR':h2_eff,'ION_Tvir_MIN':vir_min,'R_BUBBLE_MAX':r_mfp},\n",
    "            regenerate=False         \n",
    "        ) \n",
    "        \n",
    "        filepath=\"output/data_\"+str(i+(n*(x-1)))\n",
    "\n",
    "        datafiles = [filepath+\"/simple_mcmc_data_%s.npz\"%z for z in core.redshift]\n",
    "        info_list=[]\n",
    "\n",
    "        info_list.append([h2_eff,vir_min,r_mfp])\n",
    "\n",
    "        #Likelihood Function\n",
    "        likelihood = p21mc.Likelihood1DPowerCoeval(  \n",
    "            datafile = datafiles,                   \n",
    "            noisefile= None,                        \n",
    "            min_k=0.1,                             \n",
    "            max_k=1.0,                              \n",
    "            simulate = True,)                    \n",
    "\n",
    "        model_name = \"SimpleTest\"\n",
    "\n",
    "        chain = mcmc.run_mcmc(\n",
    "            core, likelihood,        # Use lists if multiple cores/likelihoods required. These will be eval'd in order.\n",
    "            datadir=filepath,          # Directory for all outputs\n",
    "            model_name=model_name,   # Filename of main chain output\n",
    "            params=dict(             # Parameter dict as described above.\n",
    "                HII_EFF_FACTOR = [h2_eff, h2_eff-0.001, h2_eff+0.001, 0.0005],\n",
    "                ION_Tvir_MIN = [vir_min, vir_min-0.001, vir_min+0.001, 0.0005],\n",
    "                R_BUBBLE_MAX = [r_mfp, r_mfp-0.001, r_mfp+0.001, 0.0005]\n",
    "            ),\n",
    "            walkersRatio=2,         # The number of walkers will be walkersRatio*nparams\n",
    "            burninIterations=0,      # Number of iterations to save as burnin. Recommended to leave as zero.\n",
    "            sampleIterations=1,    # Number of iterations to sample, per walker.\n",
    "            threadCount=2,           # Number of processes to use in MCMC (best as a factor of walkersRatio)\n",
    "            continue_sampling=False  # Whether to contine sampling from previous run *up to* sampleIterations.\n",
    "        )\n",
    "\n",
    "\n",
    "        #Saving the parameters in CSV format\n",
    "        fields = ['HII_EFF_FACTOR', 'ION_Tvir_MIN','R_BUBBLE_MAX'] \n",
    "        with open(filepath+'/data.csv', 'w') as f:\n",
    "            csv_writer = csv.writer(f)\n",
    "            csv_writer.writerow(fields)\n",
    "            csv_writer.writerows(info_list)\n",
    "        print(i)\n",
    "        print(\"Done\")\n",
    "        i=i+1\n",
    "        cachex=cache_tools.clear_cache()\n",
    "    except:\n",
    "        pass\n",
    "    "
   ]
  },
  {
   "cell_type": "code",
   "execution_count": null,
   "id": "855b07c5-5902-4697-9fec-eeed1e4a66a8",
   "metadata": {},
   "outputs": [],
   "source": []
  }
 ],
 "metadata": {
  "kernelspec": {
   "display_name": "Python 3 (ipykernel)",
   "language": "python",
   "name": "python3"
  },
  "language_info": {
   "codemirror_mode": {
    "name": "ipython",
    "version": 3
   },
   "file_extension": ".py",
   "mimetype": "text/x-python",
   "name": "python",
   "nbconvert_exporter": "python",
   "pygments_lexer": "ipython3",
   "version": "3.11.7"
  }
 },
 "nbformat": 4,
 "nbformat_minor": 5
}
