{
 "cells": [
  {
   "cell_type": "code",
   "execution_count": null,
   "id": "144dfe86-4182-4715-a69d-069ba0725991",
   "metadata": {},
   "outputs": [],
   "source": [
    "import numpy as np\n",
    "from keras.models import Sequential\n",
    "from keras.layers import Dense\n",
    "from keras.optimizers import Adagrad\n",
    "\n",
    "# Create a neural network model\n",
    "model = Sequential()\n",
    "\n",
    "# Input layer - 10 neurons corresponding to 10 'k' modes in the powerspectrum\n",
    "model.add(Dense(10, input_dim=8, activation='linear'))  # Linear activation for input layer\n",
    "\n",
    "# First hidden layer \n",
    "model.add(Dense(1024, activation='tanh'))\n",
    "\n",
    "# Second hidden layer \n",
    "model.add(Dense(512, activation='elu'))\n",
    "\n",
    "# Third hidden layer \n",
    "model.add(Dense(216, activation='tanh'))\n",
    "\n",
    "# Output layer with 2 neurons (corresponding to Zeta and M_min respectively) \n",
    "model.add(Dense(2, activation='linear'))\n",
    "\n",
    "# Compile the model with Mean Squared Error loss and Adagrad optimizer\n",
    "model.compile(loss='mean_squared_error', optimizer=Adagrad())\n",
    "\n",
    "# Summary of the model\n",
    "model.summary()\n",
    "print(\"######## completed model setup #########\")\n",
    "\n",
    "# Train the model - input (X) and output (y) data.\n",
    "# X = np.random.rand(num_samples, 128)  # Replace with your actual input data\n",
    "# y = np.random.rand(num_samples, 128)  # Replace with your actual output data\n",
    "# model.fit(X, y, epochs=100, batch_size=32)  # Replace with your desired epochs and batch size\n"
   ]
  }
 ],
 "metadata": {
  "kernelspec": {
   "display_name": "Python 3 (ipykernel)",
   "language": "python",
   "name": "python3"
  },
  "language_info": {
   "codemirror_mode": {
    "name": "ipython",
    "version": 3
   },
   "file_extension": ".py",
   "mimetype": "text/x-python",
   "name": "python",
   "nbconvert_exporter": "python",
   "pygments_lexer": "ipython3",
   "version": "3.11.7"
  }
 },
 "nbformat": 4,
 "nbformat_minor": 5
}
