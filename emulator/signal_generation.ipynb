{
 "cells": [
  {
   "cell_type": "markdown",
   "id": "f91e12b6-1f60-4784-9242-f79c9b895445",
   "metadata": {},
   "source": [
    "# Emulator for 21cm signal data"
   ]
  },
  {
   "cell_type": "markdown",
   "id": "8b683702-2a44-42f2-8369-9049370a2e4c",
   "metadata": {},
   "source": [
    "## Create 21 cm signal\n"
   ]
  },
  {
   "cell_type": "code",
   "execution_count": 36,
   "id": "e9fb3c7a-bddc-4360-8435-c528820bdf2f",
   "metadata": {},
   "outputs": [
    {
     "name": "stdout",
     "output_type": "stream",
     "text": [
      "11.651168403668425\n"
     ]
    }
   ],
   "source": [
    "import math\n",
    "def apply_tanh_model(ref, z, z0, dz):\n",
    "    return (ref/2.0)*(1+math.tanh((z0-z)/dz))\n",
    "\n",
    "print (apply_tanh_model(11.69, 9.1, 18.54,3.31))\n",
    "\n",
    "#def generate_21cm_signal(z, Jref, Jz0, Jdz, Xref, Xz0, Xdz, Tref, Tz0, Tdz):\n",
    "    "
   ]
  },
  {
   "cell_type": "code",
   "execution_count": 34,
   "id": "6def4d59-9e26-45ca-bef1-e90116df6025",
   "metadata": {},
   "outputs": [
    {
     "data": {
      "image/png": "[encoded data removed]",
      "text/plain": [
       "<Figure size 640x480 with 1 Axes>"
      ]
     },
     "metadata": {},
     "output_type": "display_data"
    }
   ],
   "source": [
    "import matplotlib.pyplot as plt\n",
    "import numpy as np\n",
    "\n",
    "x = np.linspace(30, 0, 30)\n",
    "def f(z):\n",
    "    return apply_tanh_model(11.69, z, 18.54,3.31)\n",
    "\n",
    "plt.plot(x, np.array(list(map(f, x))))\n",
    "plt.show()\n"
   ]
  },
  {
   "cell_type": "markdown",
   "id": "9dd5e16b-54f2-4334-91d1-ca4c73933cb0",
   "metadata": {},
   "source": [
    "## Create foreground"
   ]
  },
  {
   "attachments": {},
   "cell_type": "markdown",
   "id": "5318ab38-e56a-493d-90ad-17f58df71595",
   "metadata": {},
   "source": [
    "## Model Instrument\n",
    "\n"
   ]
  },
  {
   "attachments": {},
   "cell_type": "markdown",
   "id": "2904e2ef-21e1-4efa-9668-5938479f7d37",
   "metadata": {},
   "source": [
    "### Model Basic Instrument\n",
    "\n"
   ]
  },
  {
   "attachments": {},
   "cell_type": "markdown",
   "id": "b3107073-5312-48b4-ac67-b81ed98b9524",
   "metadata": {},
   "source": [
    "### Model Moderate Instrument\n",
    "\n"
   ]
  },
  {
   "attachments": {},
   "cell_type": "markdown",
   "id": "9a809f2a-c72d-44af-bb66-6b37626a75d0",
   "metadata": {},
   "source": [
    "## Add Thermal Noise for Instrument\n",
    "\n"
   ]
  },
  {
   "attachments": {},
   "cell_type": "markdown",
   "id": "4c18a75c-d660-485c-b58f-bc1f4f2f6fd7",
   "metadata": {},
   "source": [
    "## Generate Training Set\n",
    "\n"
   ]
  },
  {
   "cell_type": "code",
   "execution_count": null,
   "id": "6b20875c-c40f-4b43-a8e9-d05c200da70f",
   "metadata": {},
   "outputs": [],
   "source": []
  }
 ],
 "metadata": {
  "kernelspec": {
   "display_name": "Python 3 (ipykernel)",
   "language": "python",
   "name": "python3"
  },
  "language_info": {
   "codemirror_mode": {
    "name": "ipython",
    "version": 3
   },
   "file_extension": ".py",
   "mimetype": "text/x-python",
   "name": "python",
   "nbconvert_exporter": "python",
   "pygments_lexer": "ipython3",
   "version": "3.11.7"
  }
 },
 "nbformat": 4,
 "nbformat_minor": 5
}
